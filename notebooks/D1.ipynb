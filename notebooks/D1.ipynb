{
 "cells": [
  {
   "cell_type": "markdown",
   "id": "b938cb76",
   "metadata": {},
   "source": [
    "# first program to print statement"
   ]
  },
  {
   "cell_type": "code",
   "execution_count": 1,
   "id": "0f1f0b61",
   "metadata": {},
   "outputs": [
    {
     "name": "stdout",
     "output_type": "stream",
     "text": [
      "abcde\n"
     ]
    }
   ],
   "source": [
    "print(\"abcde\")"
   ]
  },
  {
   "cell_type": "code",
   "execution_count": 2,
   "id": "a893c16c",
   "metadata": {},
   "outputs": [
    {
     "name": "stdout",
     "output_type": "stream",
     "text": [
      "asdf\n",
      "1234\n",
      "z12c\n"
     ]
    }
   ],
   "source": [
    "print(\"asdf\")\n",
    "print('1234')       # python code is executed line by line\n",
    "print('z12c')"
   ]
  },
  {
   "cell_type": "code",
   "execution_count": 3,
   "id": "b3fbd69d",
   "metadata": {},
   "outputs": [
    {
     "ename": "NameError",
     "evalue": "name 'adfg' is not defined",
     "output_type": "error",
     "traceback": [
      "\u001b[1;31m---------------------------------------------------------------------------\u001b[0m",
      "\u001b[1;31mNameError\u001b[0m                                 Traceback (most recent call last)",
      "\u001b[1;32m~\\AppData\\Local\\Temp/ipykernel_2796/3869795045.py\u001b[0m in \u001b[0;36m<module>\u001b[1;34m\u001b[0m\n\u001b[1;32m----> 1\u001b[1;33m \u001b[0mprint\u001b[0m\u001b[1;33m(\u001b[0m\u001b[0madfg\u001b[0m\u001b[1;33m)\u001b[0m\u001b[1;33m\u001b[0m\u001b[1;33m\u001b[0m\u001b[0m\n\u001b[0m",
      "\u001b[1;31mNameError\u001b[0m: name 'adfg' is not defined"
     ]
    }
   ],
   "source": [
    "print(adfg)    # if you are printing value without single or double quotation then you have to define that value"
   ]
  },
  {
   "cell_type": "code",
   "execution_count": 4,
   "id": "0c0d25fc",
   "metadata": {},
   "outputs": [
    {
     "name": "stdout",
     "output_type": "stream",
     "text": [
      "ababababab\n"
     ]
    }
   ],
   "source": [
    "print(\"ab\"*5)  # in quotation we are defining string * means multiply sting by 5"
   ]
  },
  {
   "cell_type": "code",
   "execution_count": 6,
   "id": "6f22e470",
   "metadata": {},
   "outputs": [
    {
     "name": "stdout",
     "output_type": "stream",
     "text": [
      "ab ab ab ab ab \n",
      "a b a b a b a b a b \n"
     ]
    }
   ],
   "source": [
    "print(\"ab \"*5)\n",
    "print(\"a b \"*5)"
   ]
  },
  {
   "cell_type": "markdown",
   "id": "0ef76523",
   "metadata": {},
   "source": [
    "# Variables in python"
   ]
  },
  {
   "cell_type": "markdown",
   "id": "3d75b69d",
   "metadata": {},
   "source": [
    "variables re used to temorarily storing the data"
   ]
  },
  {
   "cell_type": "code",
   "execution_count": 7,
   "id": "302cdbf1",
   "metadata": {},
   "outputs": [
    {
     "name": "stdout",
     "output_type": "stream",
     "text": [
      "price\n",
      "10\n"
     ]
    }
   ],
   "source": [
    "price = 10                                    # here the value always store in binary format i.e 0101 format\n",
    "print(\"price\")   #only print the  string value\n",
    "print(price)    # print the variable value"
   ]
  },
  {
   "cell_type": "code",
   "execution_count": 8,
   "id": "684fc234",
   "metadata": {},
   "outputs": [
    {
     "name": "stdout",
     "output_type": "stream",
     "text": [
      "20\n"
     ]
    }
   ],
   "source": [
    "price= 10\n",
    "price=20\n",
    "print(price)   # tell me? what will be print first?\n",
    "               # as we explained code is executing line by line so that will print the price 20\n"
   ]
  },
  {
   "cell_type": "code",
   "execution_count": 9,
   "id": "a8339ccc",
   "metadata": {},
   "outputs": [
    {
     "name": "stdout",
     "output_type": "stream",
     "text": [
      "10\n",
      "Jhon\n",
      "10.7\n",
      "True\n"
     ]
    }
   ],
   "source": [
    "price = 10      #int\n",
    "name = 'Jhon'   #string\n",
    "price_f = 10.7   #float\n",
    "accepted_T_F = True  # Boolean    Python is case sensitive language so write T and F in True False\n",
    "print(price)\n",
    "print(name)\n",
    "print(price_f)\n",
    "print(accepted_T_F)"
   ]
  },
  {
   "cell_type": "markdown",
   "id": "d1fda7b3",
   "metadata": {},
   "source": [
    "Eercise: create aswap program of two value"
   ]
  },
  {
   "cell_type": "markdown",
   "id": "38f1e8f1",
   "metadata": {},
   "source": [
    "# Input method"
   ]
  },
  {
   "cell_type": "code",
   "execution_count": 11,
   "id": "fb90c1b6",
   "metadata": {},
   "outputs": [
    {
     "name": "stdout",
     "output_type": "stream",
     "text": [
      "Name of candidate is : Smith\n"
     ]
    }
   ],
   "source": [
    "name = input(\"Name of candidate is : \" )"
   ]
  },
  {
   "cell_type": "code",
   "execution_count": 12,
   "id": "6f994fbf",
   "metadata": {},
   "outputs": [
    {
     "name": "stdout",
     "output_type": "stream",
     "text": [
      "Smith\n"
     ]
    }
   ],
   "source": [
    "print(name)"
   ]
  },
  {
   "cell_type": "code",
   "execution_count": 13,
   "id": "35aa9274",
   "metadata": {},
   "outputs": [
    {
     "name": "stdout",
     "output_type": "stream",
     "text": [
      "Smith is doing well in his job\n"
     ]
    }
   ],
   "source": [
    "print(\"{0} is doing well in his job\".format(name))"
   ]
  },
  {
   "cell_type": "code",
   "execution_count": 15,
   "id": "6a1ab7b3",
   "metadata": {},
   "outputs": [
    {
     "name": "stdout",
     "output_type": "stream",
     "text": [
      "Name of candidate is Smith\n"
     ]
    }
   ],
   "source": [
    "print(\"Name of candidate is\",name)"
   ]
  },
  {
   "cell_type": "code",
   "execution_count": 17,
   "id": "d73fbd50",
   "metadata": {},
   "outputs": [
    {
     "name": "stdout",
     "output_type": "stream",
     "text": [
      "Name of candidate isSmith\n",
      "Name of candidate is Smith\n"
     ]
    }
   ],
   "source": [
    "print(\"Name of candidate is\" + name)\n",
    "print(\"Name of candidate is \" +name)"
   ]
  },
  {
   "cell_type": "markdown",
   "id": "a20ac7a3",
   "metadata": {},
   "source": [
    "Use of .format method"
   ]
  },
  {
   "cell_type": "code",
   "execution_count": 20,
   "id": "5fb2b287",
   "metadata": {},
   "outputs": [
    {
     "name": "stdout",
     "output_type": "stream",
     "text": [
      "Name of candidate is : Vijay\n",
      "job title is: Technician\n",
      "Vijay is doing well in his Technician job\n"
     ]
    }
   ],
   "source": [
    "name = input(\"Name of candidate is : \" )\n",
    "job_T = input(\"job title is: \")\n",
    "print(\"{0} is doing well in his {1} job\".format(name,job_T))"
   ]
  },
  {
   "cell_type": "markdown",
   "id": "92589da5",
   "metadata": {},
   "source": [
    "Checking length of input string"
   ]
  },
  {
   "cell_type": "code",
   "execution_count": 18,
   "id": "8502c9ae",
   "metadata": {},
   "outputs": [
    {
     "name": "stdout",
     "output_type": "stream",
     "text": [
      "what is your name: Narender\n",
      "8\n"
     ]
    }
   ],
   "source": [
    "Name = input(\"what is your name: \")\n",
    "print(len(Name))"
   ]
  },
  {
   "cell_type": "markdown",
   "id": "bbc68607",
   "metadata": {},
   "source": [
    "# Python program to swap two variables"
   ]
  },
  {
   "cell_type": "code",
   "execution_count": 19,
   "id": "6e7666ec",
   "metadata": {},
   "outputs": [
    {
     "name": "stdout",
     "output_type": "stream",
     "text": [
      "Enter value of x: 5\n",
      "Enter value of y: 6\n",
      "The value of x after swapping: 6\n",
      "The value of y after swapping: 5\n"
     ]
    }
   ],
   "source": [
    "# To take inputs from the user\n",
    "x = input('Enter value of x: ')\n",
    "y = input('Enter value of y: ')\n",
    "\n",
    "# create a temporary variable and swap the values\n",
    "temp = x\n",
    "x = y\n",
    "y = temp\n",
    "\n",
    "print('The value of x after swapping: {}'.format(x))\n",
    "print('The value of y after swapping: {}'.format(y))"
   ]
  },
  {
   "cell_type": "code",
   "execution_count": null,
   "id": "ea5d435f",
   "metadata": {},
   "outputs": [],
   "source": []
  }
 ],
 "metadata": {
  "kernelspec": {
   "display_name": "Python 3 (ipykernel)",
   "language": "python",
   "name": "python3"
  },
  "language_info": {
   "codemirror_mode": {
    "name": "ipython",
    "version": 3
   },
   "file_extension": ".py",
   "mimetype": "text/x-python",
   "name": "python",
   "nbconvert_exporter": "python",
   "pygments_lexer": "ipython3",
   "version": "3.9.7"
  }
 },
 "nbformat": 4,
 "nbformat_minor": 5
}
