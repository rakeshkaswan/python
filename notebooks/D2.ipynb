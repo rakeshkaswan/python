{
 "cells": [
  {
   "cell_type": "markdown",
   "id": "7e47f75f",
   "metadata": {},
   "source": [
    "# dataypes in python\n",
    "# type conversion"
   ]
  },
  {
   "cell_type": "code",
   "execution_count": 16,
   "id": "68988471",
   "metadata": {},
   "outputs": [
    {
     "name": "stdout",
     "output_type": "stream",
     "text": [
      "salary is: 7000\n"
     ]
    },
    {
     "ename": "TypeError",
     "evalue": "unsupported operand type(s) for -: 'str' and 'int'",
     "output_type": "error",
     "traceback": [
      "\u001b[1;31m---------------------------------------------------------------------------\u001b[0m",
      "\u001b[1;31mTypeError\u001b[0m                                 Traceback (most recent call last)",
      "\u001b[1;32m~\\AppData\\Local\\Temp/ipykernel_3280/3283963071.py\u001b[0m in \u001b[0;36m<module>\u001b[1;34m\u001b[0m\n\u001b[0;32m      1\u001b[0m \u001b[0msalary\u001b[0m \u001b[1;33m=\u001b[0m \u001b[0minput\u001b[0m\u001b[1;33m(\u001b[0m\u001b[1;34m\"salary is: \"\u001b[0m\u001b[1;33m)\u001b[0m\u001b[1;33m\u001b[0m\u001b[1;33m\u001b[0m\u001b[0m\n\u001b[1;32m----> 2\u001b[1;33m \u001b[0msaving\u001b[0m \u001b[1;33m=\u001b[0m \u001b[0msalary\u001b[0m \u001b[1;33m-\u001b[0m \u001b[1;36m4000\u001b[0m\u001b[1;33m\u001b[0m\u001b[1;33m\u001b[0m\u001b[0m\n\u001b[0m\u001b[0;32m      3\u001b[0m \u001b[0mprint\u001b[0m\u001b[1;33m(\u001b[0m\u001b[0msaving\u001b[0m\u001b[1;33m)\u001b[0m\u001b[1;33m\u001b[0m\u001b[1;33m\u001b[0m\u001b[0m\n",
      "\u001b[1;31mTypeError\u001b[0m: unsupported operand type(s) for -: 'str' and 'int'"
     ]
    }
   ],
   "source": [
    "salary = input(\"salary is: \")\n",
    "saving = salary - 4000\n",
    "print(saving)"
   ]
  },
  {
   "cell_type": "code",
   "execution_count": 17,
   "id": "83d2d452",
   "metadata": {},
   "outputs": [
    {
     "name": "stdout",
     "output_type": "stream",
     "text": [
      "salary is: 10000\n",
      "6000\n",
      "<class 'int'>\n",
      "<class 'int'>\n"
     ]
    }
   ],
   "source": [
    "salary = int(input(\"salary is: \"))\n",
    "saving = salary - 4000\n",
    "print(saving)\n",
    "print(type(salary))\n",
    "print(type(saving))"
   ]
  },
  {
   "cell_type": "code",
   "execution_count": 10,
   "id": "7349ba5b",
   "metadata": {},
   "outputs": [
    {
     "name": "stdout",
     "output_type": "stream",
     "text": [
      "salary is: 15000\n",
      "expendature is: 6000\n",
      "Saving is  9000\n"
     ]
    }
   ],
   "source": [
    "salary = int(input(\"salary is: \"))\n",
    "expendature = int(input(\"expendature is: \"))\n",
    "savings = salary - expendature\n",
    "print(\"Saving is \" ,savings)"
   ]
  },
  {
   "cell_type": "code",
   "execution_count": 13,
   "id": "a9bfcccd",
   "metadata": {},
   "outputs": [
    {
     "name": "stdout",
     "output_type": "stream",
     "text": [
      "salary is: 7000\n",
      "expendature is: 3000\n"
     ]
    },
    {
     "ename": "TypeError",
     "evalue": "can only concatenate str (not \"int\") to str",
     "output_type": "error",
     "traceback": [
      "\u001b[1;31m---------------------------------------------------------------------------\u001b[0m",
      "\u001b[1;31mTypeError\u001b[0m                                 Traceback (most recent call last)",
      "\u001b[1;32m~\\AppData\\Local\\Temp/ipykernel_3280/3388157215.py\u001b[0m in \u001b[0;36m<module>\u001b[1;34m\u001b[0m\n\u001b[0;32m      2\u001b[0m \u001b[0mexpendature\u001b[0m \u001b[1;33m=\u001b[0m \u001b[0mint\u001b[0m\u001b[1;33m(\u001b[0m\u001b[0minput\u001b[0m\u001b[1;33m(\u001b[0m\u001b[1;34m\"expendature is: \"\u001b[0m\u001b[1;33m)\u001b[0m\u001b[1;33m)\u001b[0m\u001b[1;33m\u001b[0m\u001b[1;33m\u001b[0m\u001b[0m\n\u001b[0;32m      3\u001b[0m \u001b[0msavings\u001b[0m \u001b[1;33m=\u001b[0m \u001b[0msalary\u001b[0m \u001b[1;33m-\u001b[0m \u001b[0mexpendature\u001b[0m\u001b[1;33m\u001b[0m\u001b[1;33m\u001b[0m\u001b[0m\n\u001b[1;32m----> 4\u001b[1;33m \u001b[0mprint\u001b[0m\u001b[1;33m(\u001b[0m\u001b[1;34m\"Saving is \"\u001b[0m \u001b[1;33m+\u001b[0m \u001b[0msavings\u001b[0m\u001b[1;33m)\u001b[0m\u001b[1;33m\u001b[0m\u001b[1;33m\u001b[0m\u001b[0m\n\u001b[0m",
      "\u001b[1;31mTypeError\u001b[0m: can only concatenate str (not \"int\") to str"
     ]
    }
   ],
   "source": [
    "salary = int(input(\"salary is: \"))\n",
    "expendature = int(input(\"expendature is: \"))\n",
    "savings = salary - expendature\n",
    "print(\"Saving is \" + savings)     # contatanation can't be of different datatypes"
   ]
  },
  {
   "cell_type": "code",
   "execution_count": 14,
   "id": "e76fa4f6",
   "metadata": {},
   "outputs": [
    {
     "name": "stdout",
     "output_type": "stream",
     "text": [
      "salary is: 7000\n",
      "expendature is: 3000\n",
      "Saving is 4000\n"
     ]
    }
   ],
   "source": [
    "salary = int(input(\"salary is: \"))\n",
    "expendature = int(input(\"expendature is: \"))\n",
    "savings = salary - expendature\n",
    "print(\"Saving is \" + str(savings))     # here change the datatype to make same datatype for concatanation "
   ]
  },
  {
   "cell_type": "code",
   "execution_count": 18,
   "id": "32ad6c21",
   "metadata": {},
   "outputs": [
    {
     "name": "stdout",
     "output_type": "stream",
     "text": [
      "salary is: 9000\n",
      "expendature is: 2600\n",
      "Saving is 6400\n",
      "<class 'str'>\n",
      "<class 'str'>\n",
      "<class 'int'>\n"
     ]
    }
   ],
   "source": [
    "salary = input(\"salary is: \")\n",
    "expendature = input(\"expendature is: \")\n",
    "savings = int(salary) - int(expendature)\n",
    "print(\"Saving is \" + str(savings)) \n",
    "print(type(salary))\n",
    "print(type(expendature))\n",
    "print(type(saving))"
   ]
  },
  {
   "cell_type": "markdown",
   "id": "b67f3892",
   "metadata": {},
   "source": [
    "To convert height of user fron inch to centimeters\n"
   ]
  },
  {
   "cell_type": "code",
   "execution_count": 23,
   "id": "1e5270f0",
   "metadata": {},
   "outputs": [
    {
     "name": "stdout",
     "output_type": "stream",
     "text": [
      "height in inches: 71\n",
      "71 inches\n"
     ]
    }
   ],
   "source": [
    "height_in = input(\"height in inches: \")\n",
    "print(height_in + ' inches')"
   ]
  },
  {
   "cell_type": "code",
   "execution_count": 25,
   "id": "719ae63d",
   "metadata": {},
   "outputs": [
    {
     "name": "stdout",
     "output_type": "stream",
     "text": [
      "height in inches: 72\n",
      "182.88 cm\n",
      "<class 'str'>\n",
      "<class 'float'>\n"
     ]
    }
   ],
   "source": [
    "height_in = input(\"height in inches: \")\n",
    "height_cm =int(height_in)*2.54\n",
    "print(str(height_cm) + ' cm')\n",
    "print(type(height_in))\n",
    "print(type(height_cm))"
   ]
  },
  {
   "cell_type": "markdown",
   "id": "872bc194",
   "metadata": {},
   "source": [
    "# Strings"
   ]
  },
  {
   "cell_type": "code",
   "execution_count": 26,
   "id": "dfd14dce",
   "metadata": {},
   "outputs": [
    {
     "data": {
      "text/plain": [
       "'It is DE course'"
      ]
     },
     "execution_count": 26,
     "metadata": {},
     "output_type": "execute_result"
    }
   ],
   "source": [
    "statement='It is DE course'\n",
    "statement"
   ]
  },
  {
   "cell_type": "code",
   "execution_count": 30,
   "id": "dc5687ad",
   "metadata": {},
   "outputs": [
    {
     "data": {
      "text/plain": [
       "'It is DE course'"
      ]
     },
     "execution_count": 30,
     "metadata": {},
     "output_type": "execute_result"
    }
   ],
   "source": [
    "statement=\"It is DE course\"\n",
    "statement"
   ]
  },
  {
   "cell_type": "code",
   "execution_count": 27,
   "id": "1040722a",
   "metadata": {},
   "outputs": [
    {
     "ename": "SyntaxError",
     "evalue": "invalid syntax (Temp/ipykernel_3280/3279256405.py, line 1)",
     "output_type": "error",
     "traceback": [
      "\u001b[1;36m  File \u001b[1;32m\"C:\\Users\\ajay\\AppData\\Local\\Temp/ipykernel_3280/3279256405.py\"\u001b[1;36m, line \u001b[1;32m1\u001b[0m\n\u001b[1;33m    statement='It's DE course'\u001b[0m\n\u001b[1;37m                  ^\u001b[0m\n\u001b[1;31mSyntaxError\u001b[0m\u001b[1;31m:\u001b[0m invalid syntax\n"
     ]
    }
   ],
   "source": [
    "statement='It's DE course'"
   ]
  },
  {
   "cell_type": "code",
   "execution_count": 31,
   "id": "447b359e",
   "metadata": {},
   "outputs": [
    {
     "data": {
      "text/plain": [
       "\"It's DE course\""
      ]
     },
     "execution_count": 31,
     "metadata": {},
     "output_type": "execute_result"
    }
   ],
   "source": [
    "statement=\"It's DE course\"\n",
    "statement"
   ]
  },
  {
   "cell_type": "code",
   "execution_count": 32,
   "id": "893883ed",
   "metadata": {},
   "outputs": [
    {
     "data": {
      "text/plain": [
       "'It is \"DE\" course'"
      ]
     },
     "execution_count": 32,
     "metadata": {},
     "output_type": "execute_result"
    }
   ],
   "source": [
    "statement='It is \"DE\" course'\n",
    "statement"
   ]
  },
  {
   "cell_type": "code",
   "execution_count": 36,
   "id": "53ec2781",
   "metadata": {},
   "outputs": [
    {
     "data": {
      "text/plain": [
       "'\\nIt is DE course\\n            \\n            not for you\\n            \\n            you can do'"
      ]
     },
     "execution_count": 36,
     "metadata": {},
     "output_type": "execute_result"
    }
   ],
   "source": [
    "statement='''\n",
    "It is DE course                         \n",
    "            \n",
    "            not for you\n",
    "            \n",
    "            you can do'''       # multiline statement\n",
    "statement"
   ]
  },
  {
   "cell_type": "code",
   "execution_count": 39,
   "id": "28540735",
   "metadata": {},
   "outputs": [
    {
     "data": {
      "text/plain": [
       "'M'"
      ]
     },
     "execution_count": 39,
     "metadata": {},
     "output_type": "execute_result"
    }
   ],
   "source": [
    "Intro= \"My Name is Ajay\"\n",
    "Intro[0]\n"
   ]
  },
  {
   "cell_type": "code",
   "execution_count": 40,
   "id": "0c61e2de",
   "metadata": {},
   "outputs": [
    {
     "name": "stdout",
     "output_type": "stream",
     "text": [
      "e\n",
      "y\n",
      "M\n",
      "y\n"
     ]
    }
   ],
   "source": [
    "print(Intro[6])\n",
    "print(Intro[-1])\n",
    "print(Intro[-15])\n",
    "print(Intro[14])\n"
   ]
  },
  {
   "cell_type": "code",
   "execution_count": 41,
   "id": "b83c06ab",
   "metadata": {},
   "outputs": [
    {
     "name": "stdout",
     "output_type": "stream",
     "text": [
      " Name is\n",
      "Name i\n",
      "yajA si emaN yM\n",
      "My Name is\n"
     ]
    }
   ],
   "source": [
    "print(Intro[2:10])    #  [My Name is Ajay]   so in [2:10] it will print 2 to 9th but not the 10th\n",
    "print(Intro[3:9])     #  [0123456789.....14]\n",
    "print(Intro[::-1])\n",
    "print(Intro[-15:-5])"
   ]
  },
  {
   "cell_type": "code",
   "execution_count": 42,
   "id": "bdee0a76",
   "metadata": {},
   "outputs": [
    {
     "data": {
      "text/plain": [
       "'My Name is Ajay'"
      ]
     },
     "execution_count": 42,
     "metadata": {},
     "output_type": "execute_result"
    }
   ],
   "source": [
    "Intro1=Intro[:]\n",
    "Intro1"
   ]
  },
  {
   "cell_type": "code",
   "execution_count": 43,
   "id": "3e23c8bd",
   "metadata": {},
   "outputs": [
    {
     "data": {
      "text/plain": [
       "'y Name is Aja'"
      ]
     },
     "execution_count": 43,
     "metadata": {},
     "output_type": "execute_result"
    }
   ],
   "source": [
    "Intro1[1:-1]"
   ]
  },
  {
   "cell_type": "markdown",
   "id": "4ff27c6b",
   "metadata": {},
   "source": [
    "\n",
    "\n",
    "\n",
    "#### Formated String"
   ]
  },
  {
   "cell_type": "code",
   "execution_count": 49,
   "id": "02293347",
   "metadata": {},
   "outputs": [
    {
     "data": {
      "text/plain": [
       "'Ajay [Rana] is an engineer'"
      ]
     },
     "execution_count": 49,
     "metadata": {},
     "output_type": "execute_result"
    }
   ],
   "source": [
    "Fname=\"Ajay\"\n",
    "Lname=\"Rana\"\n",
    "Intro = Fname + ' [' + Lname + '] is an engineer' \n",
    "Intro"
   ]
  },
  {
   "cell_type": "code",
   "execution_count": 48,
   "id": "fed88ad7",
   "metadata": {},
   "outputs": [
    {
     "data": {
      "text/plain": [
       "'Ajay [Rana] is an engineer'"
      ]
     },
     "execution_count": 48,
     "metadata": {},
     "output_type": "execute_result"
    }
   ],
   "source": [
    "Intro1=f'{Fname} [{Lname}] is an engineer'  # Use of formatting string function\n",
    "\n",
    "Intro1"
   ]
  },
  {
   "cell_type": "code",
   "execution_count": 51,
   "id": "32acd0be",
   "metadata": {},
   "outputs": [
    {
     "data": {
      "text/plain": [
       "26"
      ]
     },
     "execution_count": 51,
     "metadata": {},
     "output_type": "execute_result"
    }
   ],
   "source": [
    "len(Intro1)"
   ]
  },
  {
   "cell_type": "markdown",
   "id": "4fbe7c84",
   "metadata": {},
   "source": [
    "\n",
    "\n",
    "\n",
    "\n",
    "#### upper & lower method "
   ]
  },
  {
   "cell_type": "code",
   "execution_count": 52,
   "id": "9bed6af5",
   "metadata": {},
   "outputs": [
    {
     "data": {
      "text/plain": [
       "'AJAY [RANA] IS AN ENGINEER'"
      ]
     },
     "execution_count": 52,
     "metadata": {},
     "output_type": "execute_result"
    }
   ],
   "source": [
    "Intro1.upper()"
   ]
  },
  {
   "cell_type": "code",
   "execution_count": 53,
   "id": "1773cc20",
   "metadata": {},
   "outputs": [
    {
     "data": {
      "text/plain": [
       "'ajay [rana] is an engineer'"
      ]
     },
     "execution_count": 53,
     "metadata": {},
     "output_type": "execute_result"
    }
   ],
   "source": [
    "Intro1.lower()"
   ]
  },
  {
   "cell_type": "markdown",
   "id": "b47a733e",
   "metadata": {},
   "source": [
    "\n",
    "\n",
    "\n",
    "\n",
    "#### find and replace method"
   ]
  },
  {
   "cell_type": "code",
   "execution_count": 57,
   "id": "abcd7160",
   "metadata": {},
   "outputs": [
    {
     "name": "stdout",
     "output_type": "stream",
     "text": [
      "1\n"
     ]
    }
   ],
   "source": [
    "print(Intro1.find('j'))         # find out the value in string which shows the index value"
   ]
  },
  {
   "cell_type": "code",
   "execution_count": 58,
   "id": "0a11677a",
   "metadata": {},
   "outputs": [
    {
     "name": "stdout",
     "output_type": "stream",
     "text": [
      "7\n"
     ]
    }
   ],
   "source": [
    "print(Intro1.find('an'))"
   ]
  },
  {
   "cell_type": "code",
   "execution_count": 59,
   "id": "7afa08e3",
   "metadata": {},
   "outputs": [
    {
     "name": "stdout",
     "output_type": "stream",
     "text": [
      "22\n"
     ]
    }
   ],
   "source": [
    "print(Intro1.find('ne'))"
   ]
  },
  {
   "cell_type": "code",
   "execution_count": 60,
   "id": "4bf7622d",
   "metadata": {},
   "outputs": [
    {
     "name": "stdout",
     "output_type": "stream",
     "text": [
      "Ajay [Raa] is a engineer\n"
     ]
    }
   ],
   "source": [
    "print(Intro1.replace('an','a'))       # used for replaceng with another value"
   ]
  },
  {
   "cell_type": "code",
   "execution_count": 61,
   "id": "527ec104",
   "metadata": {},
   "outputs": [
    {
     "name": "stdout",
     "output_type": "stream",
     "text": [
      "Ajay [Raa] is a enjineer\n"
     ]
    }
   ],
   "source": [
    "print(Intro1.replace('an','a').replace('g','j'))\n"
   ]
  },
  {
   "cell_type": "markdown",
   "id": "2f643cd2",
   "metadata": {},
   "source": [
    "\n",
    "\n",
    "\n",
    "\n",
    "#### in Method(Check Value in Boolean Expression)"
   ]
  },
  {
   "cell_type": "code",
   "execution_count": 62,
   "id": "2b35ede6",
   "metadata": {},
   "outputs": [
    {
     "data": {
      "text/plain": [
       "'Ajay [Rana] is an engineer'"
      ]
     },
     "execution_count": 62,
     "metadata": {},
     "output_type": "execute_result"
    }
   ],
   "source": [
    "Intro1"
   ]
  },
  {
   "cell_type": "code",
   "execution_count": 63,
   "id": "a96dc034",
   "metadata": {},
   "outputs": [
    {
     "data": {
      "text/plain": [
       "True"
      ]
     },
     "execution_count": 63,
     "metadata": {},
     "output_type": "execute_result"
    }
   ],
   "source": [
    "'Ajay' in Intro1    # find out the value in string but show boolean result"
   ]
  },
  {
   "cell_type": "code",
   "execution_count": 64,
   "id": "84e188a3",
   "metadata": {},
   "outputs": [
    {
     "data": {
      "text/plain": [
       "False"
      ]
     },
     "execution_count": 64,
     "metadata": {},
     "output_type": "execute_result"
    }
   ],
   "source": [
    "'ajay' in Intro1"
   ]
  },
  {
   "cell_type": "markdown",
   "id": "e8df5f56",
   "metadata": {},
   "source": [
    "\n",
    "\n",
    "\n",
    "\n",
    "#### title method   \n"
   ]
  },
  {
   "cell_type": "code",
   "execution_count": 66,
   "id": "b8af2e09",
   "metadata": {},
   "outputs": [
    {
     "name": "stdout",
     "output_type": "stream",
     "text": [
      "Ajay [Rana] Is An Engineer\n"
     ]
    }
   ],
   "source": [
    "print(Intro1.title())    # this function capitalizes the first letter of each word in the string."
   ]
  },
  {
   "cell_type": "code",
   "execution_count": null,
   "id": "b5a9ca4d",
   "metadata": {},
   "outputs": [],
   "source": []
  }
 ],
 "metadata": {
  "kernelspec": {
   "display_name": "Python 3 (ipykernel)",
   "language": "python",
   "name": "python3"
  },
  "language_info": {
   "codemirror_mode": {
    "name": "ipython",
    "version": 3
   },
   "file_extension": ".py",
   "mimetype": "text/x-python",
   "name": "python",
   "nbconvert_exporter": "python",
   "pygments_lexer": "ipython3",
   "version": "3.9.7"
  }
 },
 "nbformat": 4,
 "nbformat_minor": 5
}
