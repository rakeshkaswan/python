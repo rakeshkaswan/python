{
 "cells": [
  {
   "cell_type": "markdown",
   "id": "2cfdf1b0",
   "metadata": {},
   "source": [
    "# OPERATION IN PYTHON"
   ]
  },
  {
   "cell_type": "code",
   "execution_count": 8,
   "id": "7b0fa73a",
   "metadata": {},
   "outputs": [
    {
     "name": "stdout",
     "output_type": "stream",
     "text": [
      "13\n",
      "7\n",
      "30\n",
      "3.3333333333333335\n",
      "3\n",
      "1\n",
      "100\n",
      "1000\n",
      "10000\n",
      "5.0\n",
      "4.000110905086354\n"
     ]
    }
   ],
   "source": [
    "print(10+3) # addition\n",
    "print(10-3) # substraction\n",
    "print(10*3) # multiplication\n",
    "print(10/3) # Division operator\n",
    "print(10//3) #Floor division operator or Division without decimal\n",
    "print(10%3)  # remainder Modulas operator \n",
    "print(10**2) # squqre\n",
    "print(10**3) # qube or exponentiation operator\n",
    "print(10**4) \n",
    "print(25**.5) #square root\n",
    "print(64**(.33334))\n"
   ]
  },
  {
   "cell_type": "code",
   "execution_count": 12,
   "id": "fc5d4d37",
   "metadata": {},
   "outputs": [
    {
     "name": "stdout",
     "output_type": "stream",
     "text": [
      "29\n",
      "39\n",
      "33.0\n",
      "33\n"
     ]
    }
   ],
   "source": [
    "print(20+ 10 - 5 * 2 + 3**2) \n",
    "print(20+ (10 - 5) * 2 + 3**2) \n",
    "print(20+ 10 / 5 * 2 + 3**2) \n",
    "print(20+ 10 // 5 * 2 + 3**2) \n",
    "                                       # order of operation () -> ** -> / -> * -> + -> -"
   ]
  },
  {
   "cell_type": "markdown",
   "id": "132c65db",
   "metadata": {},
   "source": [
    "### round and absolute function"
   ]
  },
  {
   "cell_type": "code",
   "execution_count": 16,
   "id": "131d94ef",
   "metadata": {},
   "outputs": [
    {
     "name": "stdout",
     "output_type": "stream",
     "text": [
      "4\n",
      "3\n",
      "3.33\n"
     ]
    }
   ],
   "source": [
    "a = 3.9\n",
    "b= 3.4\n",
    "c= 3.3333334\n",
    "print(round(a))\n",
    "print(round(b))\n",
    "print(round(c,2))\n"
   ]
  },
  {
   "cell_type": "code",
   "execution_count": 17,
   "id": "34883a77",
   "metadata": {},
   "outputs": [
    {
     "name": "stdout",
     "output_type": "stream",
     "text": [
      "10.63\n"
     ]
    }
   ],
   "source": [
    "print(round((a+b+c),2))"
   ]
  },
  {
   "cell_type": "code",
   "execution_count": 18,
   "id": "bfb7eed9",
   "metadata": {},
   "outputs": [
    {
     "name": "stdout",
     "output_type": "stream",
     "text": [
      "4.56\n"
     ]
    }
   ],
   "source": [
    "# abs() function return the absolute value and remove the negative sign of a number in Python\n",
    "print(abs(-4.56))"
   ]
  },
  {
   "cell_type": "markdown",
   "id": "b165c25a",
   "metadata": {},
   "source": [
    "### ceil and floor"
   ]
  },
  {
   "cell_type": "code",
   "execution_count": 26,
   "id": "d234d3dc",
   "metadata": {},
   "outputs": [
    {
     "name": "stdout",
     "output_type": "stream",
     "text": [
      "7\n",
      "7\n",
      "6\n",
      "-6\n",
      "-7\n"
     ]
    }
   ],
   "source": [
    "import math\n",
    "print(math.ceil(6.7))\n",
    "print(math.ceil(6.4))\n",
    "print(math.floor(6.7))\n",
    "print(math.ceil(-6.7))\n",
    "print(math.floor(-6.7))"
   ]
  },
  {
   "cell_type": "code",
   "execution_count": null,
   "id": "e05e8143",
   "metadata": {},
   "outputs": [],
   "source": []
  }
 ],
 "metadata": {
  "kernelspec": {
   "display_name": "Python 3 (ipykernel)",
   "language": "python",
   "name": "python3"
  },
  "language_info": {
   "codemirror_mode": {
    "name": "ipython",
    "version": 3
   },
   "file_extension": ".py",
   "mimetype": "text/x-python",
   "name": "python",
   "nbconvert_exporter": "python",
   "pygments_lexer": "ipython3",
   "version": "3.9.7"
  }
 },
 "nbformat": 4,
 "nbformat_minor": 5
}
