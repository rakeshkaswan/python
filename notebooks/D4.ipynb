{
 "cells": [
  {
   "cell_type": "markdown",
   "id": "95e2058f",
   "metadata": {},
   "source": [
    "# If Else Statement"
   ]
  },
  {
   "cell_type": "code",
   "execution_count": 18,
   "id": "c31964f8",
   "metadata": {},
   "outputs": [
    {
     "name": "stdout",
     "output_type": "stream",
     "text": [
      "Take an umbrela.\n",
      "Enjoy the season.\n"
     ]
    }
   ],
   "source": [
    "its_rain = True\n",
    "if its_rain:\n",
    "    print(\"Take an umbrela.\")\n",
    "print(\"Enjoy the season.\")    "
   ]
  },
  {
   "cell_type": "code",
   "execution_count": 19,
   "id": "076adce6",
   "metadata": {},
   "outputs": [
    {
     "name": "stdout",
     "output_type": "stream",
     "text": [
      "Enjoy the season.\n"
     ]
    }
   ],
   "source": [
    "its_rain = False\n",
    "if its_rain:\n",
    "    print(\"Take an umbrela.\")\n",
    "print(\"Enjoy the season.\")  "
   ]
  },
  {
   "cell_type": "code",
   "execution_count": 20,
   "id": "1fee4e60",
   "metadata": {},
   "outputs": [
    {
     "name": "stdout",
     "output_type": "stream",
     "text": [
      "Take an umbrela.\n",
      "or Don't go out of home.\n",
      "Enjoy the season.\n"
     ]
    }
   ],
   "source": [
    "its_rain = True\n",
    "if its_rain:\n",
    "    print(\"Take an umbrela.\")\n",
    "    print(\"or Don't go out of home.\")\n",
    "print(\"Enjoy the season.\")  "
   ]
  },
  {
   "cell_type": "code",
   "execution_count": 21,
   "id": "4fa4e977",
   "metadata": {},
   "outputs": [
    {
     "name": "stdout",
     "output_type": "stream",
     "text": [
      "its a sunny day.\n",
      "You can go out of home.\n",
      "Enjoy the season.\n"
     ]
    }
   ],
   "source": [
    "its_rain = False\n",
    "if its_rain:\n",
    "    print(\"Take an umbrela.\")\n",
    "    print(\"or Don't go out of home.\")\n",
    "else:\n",
    "    print(\"its a sunny day.\")\n",
    "    print(\"You can go out of home.\")\n",
    "print(\"Enjoy the season.\")  "
   ]
  },
  {
   "cell_type": "code",
   "execution_count": 22,
   "id": "75976cd9",
   "metadata": {},
   "outputs": [
    {
     "name": "stdout",
     "output_type": "stream",
     "text": [
      "Take an umbrela.\n",
      "or Don't go out of home.\n"
     ]
    }
   ],
   "source": [
    "its_rain = True\n",
    "its_hot = True\n",
    "if its_rain:\n",
    "    print(\"Take an umbrela.\")\n",
    "    print(\"or Don't go out of home.\")\n",
    "elif its_hot:\n",
    "    print(\"its a sunny day.\")\n",
    "    print(\"You can go out of home.\")\n",
    "else:    \n",
    "    print(\"Enjoy the day.\") "
   ]
  },
  {
   "cell_type": "code",
   "execution_count": 23,
   "id": "93fe93b3",
   "metadata": {},
   "outputs": [
    {
     "name": "stdout",
     "output_type": "stream",
     "text": [
      "Enjoy the day.\n"
     ]
    }
   ],
   "source": [
    "its_rain = False\n",
    "its_hot = False\n",
    "if its_rain:\n",
    "    print(\"Take an umbrela.\")\n",
    "    print(\"or Don't go out of home.\")\n",
    "elif its_hot:\n",
    "    print(\"its a sunny day.\")\n",
    "    print(\"You can go out of home.\")\n",
    "else:    \n",
    "    print(\"Enjoy the day.\") "
   ]
  },
  {
   "cell_type": "code",
   "execution_count": 24,
   "id": "34106d04",
   "metadata": {},
   "outputs": [
    {
     "name": "stdout",
     "output_type": "stream",
     "text": [
      "welcome to the rollercoaster!\n",
      "what is your height in cm? 111\n",
      "you can not ride rollercoaster\n"
     ]
    }
   ],
   "source": [
    "print(\"welcome to the rollercoaster!\")\n",
    "height = int(input(\"what is your height in cm? \"))\n",
    "if height > 120:\n",
    " print(\"you can ride the rollercoaster\")\n",
    "else:\n",
    " print(\"you can not ride rollercoaster\")"
   ]
  },
  {
   "cell_type": "markdown",
   "id": "e2796cc5",
   "metadata": {},
   "source": [
    "### Logical Operators"
   ]
  },
  {
   "cell_type": "code",
   "execution_count": 25,
   "id": "ffa22459",
   "metadata": {},
   "outputs": [
    {
     "name": "stdout",
     "output_type": "stream",
     "text": [
      "aligible for loan\n"
     ]
    }
   ],
   "source": [
    "high_income= True\n",
    "high_credit= True\n",
    "if high_income and high_credit:\n",
    "    print(\"aligible for loan\")\n",
    "else:\n",
    "    print(\"Not aligible\")"
   ]
  },
  {
   "cell_type": "code",
   "execution_count": 26,
   "id": "4bbf8965",
   "metadata": {},
   "outputs": [
    {
     "name": "stdout",
     "output_type": "stream",
     "text": [
      "Not aligible\n"
     ]
    }
   ],
   "source": [
    "high_income= False\n",
    "high_credit= True\n",
    "if high_income and high_credit:\n",
    "    print(\"aligible for loan\")\n",
    "else:\n",
    "    print(\"Not aligible\")"
   ]
  },
  {
   "cell_type": "code",
   "execution_count": 30,
   "id": "3a64d46d",
   "metadata": {},
   "outputs": [
    {
     "name": "stdout",
     "output_type": "stream",
     "text": [
      "aligible for loan\n"
     ]
    }
   ],
   "source": [
    "high_income= False\n",
    "high_credit= True\n",
    "if not high_income and high_credit:\n",
    "    print(\"aligible for loan\")\n",
    "else:\n",
    "    print(\"Not aligible\")"
   ]
  },
  {
   "cell_type": "code",
   "execution_count": 27,
   "id": "7c78640e",
   "metadata": {},
   "outputs": [
    {
     "name": "stdout",
     "output_type": "stream",
     "text": [
      "aligible for loan\n"
     ]
    }
   ],
   "source": [
    "high_income= False\n",
    "high_credit= True\n",
    "if high_income or high_credit:\n",
    "    print(\"aligible for loan\")\n",
    "else:\n",
    "    print(\"Not aligible\")"
   ]
  },
  {
   "cell_type": "code",
   "execution_count": 38,
   "id": "9168c3d3",
   "metadata": {},
   "outputs": [
    {
     "name": "stdout",
     "output_type": "stream",
     "text": [
      "High Income True/False :False\n",
      "High Credit True/False :False\n",
      "aligible for loan\n"
     ]
    }
   ],
   "source": [
    "high_income= bool(input(\"High Income True/False :\"))\n",
    "high_credit= bool(input(\"High Credit True/False :\"))\n",
    "if high_income or high_credit:\n",
    "    print(\"aligible for loan\")\n",
    "else:\n",
    "    print(\"Not aligible\")"
   ]
  },
  {
   "cell_type": "code",
   "execution_count": 16,
   "id": "d0825c77",
   "metadata": {},
   "outputs": [
    {
     "name": "stdout",
     "output_type": "stream",
     "text": [
      "High Income True/False :false\n",
      "High Credit True/False :false\n",
      "aligible for loan\n"
     ]
    }
   ],
   "source": [
    "high_income= input(\"High Income True/False :\").title()\n",
    "high_credit= input(\"High Credit True/False :\").title()\n",
    "if high_income or high_credit:\n",
    "    print(\"aligible for loan\")\n",
    "else:\n",
    "    print(\"Not aligible\")"
   ]
  },
  {
   "cell_type": "code",
   "execution_count": 31,
   "id": "65aedec0",
   "metadata": {},
   "outputs": [
    {
     "name": "stdout",
     "output_type": "stream",
     "text": [
      "its a hot day\n"
     ]
    }
   ],
   "source": [
    "temp = 45\n",
    "if temp>45:\n",
    "    print(\"its a very hot day\")\n",
    "else:\n",
    "    print(\"its a hot day\")"
   ]
  },
  {
   "cell_type": "code",
   "execution_count": 36,
   "id": "e6296de6",
   "metadata": {},
   "outputs": [
    {
     "name": "stdout",
     "output_type": "stream",
     "text": [
      "temprature is :  56\n",
      "its a very hot day\n"
     ]
    }
   ],
   "source": [
    "temp = int(input(\"temprature is :  \"))\n",
    "if temp>45:\n",
    "    print(\"its a very hot day\")\n",
    "elif temp>30 and temp<=45:\n",
    "    print(\"its a hot day\")\n",
    "elif temp>10 and temp<=30:\n",
    "    print(\"its a good day\")\n",
    "else:\n",
    "    print(\"its a cold day\")"
   ]
  },
  {
   "cell_type": "code",
   "execution_count": 42,
   "id": "0052687b",
   "metadata": {},
   "outputs": [
    {
     "name": "stdout",
     "output_type": "stream",
     "text": [
      "this is your name:  asdfg\n"
     ]
    }
   ],
   "source": [
    "name = \"asdfg\"\n",
    "if len(name)<3:\n",
    "    print(\"name must be of three characters\")\n",
    "elif len(name)>50:\n",
    "    print(\"name must be of 50 characters\")\n",
    "else:\n",
    "    print(\"this is your name: \", name)"
   ]
  },
  {
   "cell_type": "code",
   "execution_count": 49,
   "id": "6314fc16",
   "metadata": {},
   "outputs": [
    {
     "name": "stdout",
     "output_type": "stream",
     "text": [
      "weight: 160\n",
      "L(Lbs) or K(kgs): l\n",
      "weights of a person is 72.0 Kgs\n"
     ]
    }
   ],
   "source": [
    "weight=int(input(\"weight: \"))\n",
    "unit= input(\"L(Lbs) or K(kgs): \")\n",
    "if unit.upper()==\"L\":\n",
    "    converted_w = weight*0.45\n",
    "    print(f\"weights of a person is {converted_w} Kgs\")\n",
    "else:\n",
    "    converted_w = weight//0.45\n",
    "    print(f\"weights of a person is {converted_w} Lbs\")\n",
    "    \n"
   ]
  },
  {
   "cell_type": "code",
   "execution_count": null,
   "id": "c2bf60e6",
   "metadata": {},
   "outputs": [],
   "source": []
  },
  {
   "cell_type": "code",
   "execution_count": null,
   "id": "a4247d08",
   "metadata": {},
   "outputs": [],
   "source": []
  }
 ],
 "metadata": {
  "kernelspec": {
   "display_name": "Python 3 (ipykernel)",
   "language": "python",
   "name": "python3"
  },
  "language_info": {
   "codemirror_mode": {
    "name": "ipython",
    "version": 3
   },
   "file_extension": ".py",
   "mimetype": "text/x-python",
   "name": "python",
   "nbconvert_exporter": "python",
   "pygments_lexer": "ipython3",
   "version": "3.9.7"
  }
 },
 "nbformat": 4,
 "nbformat_minor": 5
}
