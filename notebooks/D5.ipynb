{
 "cells": [
  {
   "cell_type": "markdown",
   "id": "46ae8763",
   "metadata": {},
   "source": [
    "# loops in Python "
   ]
  },
  {
   "cell_type": "code",
   "execution_count": 2,
   "id": "10e7fef4",
   "metadata": {},
   "outputs": [
    {
     "name": "stdout",
     "output_type": "stream",
     "text": [
      "1\n",
      "2\n",
      "3\n",
      "4\n",
      "5\n",
      "6\n",
      "copmleted\n"
     ]
    }
   ],
   "source": [
    "i=1\n",
    "#while condition:\n",
    "while i<=6:\n",
    "    #body\n",
    "    print(i)\n",
    "    i=i+1\n",
    "print(\"copmleted\")"
   ]
  },
  {
   "cell_type": "code",
   "execution_count": 3,
   "id": "cb5ddf3e",
   "metadata": {},
   "outputs": [
    {
     "name": "stdout",
     "output_type": "stream",
     "text": [
      "*\n",
      "**\n",
      "***\n",
      "****\n",
      "*****\n",
      "******\n",
      "copmleted\n"
     ]
    }
   ],
   "source": [
    "i=1\n",
    "#while condition:\n",
    "while i<=6:\n",
    "    #body\n",
    "    print(\"*\"*i)\n",
    "    i=i+1\n",
    "print(\"copmleted\")"
   ]
  },
  {
   "cell_type": "code",
   "execution_count": 4,
   "id": "f8e45d5c",
   "metadata": {},
   "outputs": [
    {
     "name": "stdout",
     "output_type": "stream",
     "text": [
      "******\n",
      "*****\n",
      "****\n",
      "***\n",
      "**\n",
      "*\n",
      "copmleted\n"
     ]
    }
   ],
   "source": [
    "i=6\n",
    "#while condition:\n",
    "while i>=1:\n",
    "    #body\n",
    "    print(\"*\"*i)\n",
    "    i=i-1\n",
    "print(\"copmleted\")"
   ]
  },
  {
   "cell_type": "code",
   "execution_count": 9,
   "id": "2bdfd706",
   "metadata": {},
   "outputs": [
    {
     "name": "stdout",
     "output_type": "stream",
     "text": [
      "******\n",
      "*****\n",
      "****\n",
      "***\n",
      "**\n",
      "*\n",
      "copmleted\n"
     ]
    }
   ],
   "source": [
    "i=6\n",
    "#while condition:\n",
    "while i>=1:\n",
    "    #body\n",
    "    print(\"*\"*i)\n",
    "    i=i-1\n",
    "print(\"copmleted\")"
   ]
  },
  {
   "cell_type": "code",
   "execution_count": 16,
   "id": "23512f51",
   "metadata": {},
   "outputs": [
    {
     "name": "stdout",
     "output_type": "stream",
     "text": [
      "guess: 9\n",
      "guess: 6\n",
      "guess: 4\n",
      "you loss!\n"
     ]
    }
   ],
   "source": [
    "secret_number=8\n",
    "guess_count=0\n",
    "guess_limit=3\n",
    "while guess_count < guess_limit:\n",
    "    guess=int(input(\"guess: \"))\n",
    "    guess_count += 1\n",
    "    if guess == secret_number:\n",
    "        print(\"You Won!\")\n",
    "        break\n",
    "print(\"you loss!\")"
   ]
  },
  {
   "cell_type": "code",
   "execution_count": 19,
   "id": "a93e3127",
   "metadata": {},
   "outputs": [
    {
     "name": "stdout",
     "output_type": "stream",
     "text": [
      "guess: 8\n",
      "You Won!\n"
     ]
    }
   ],
   "source": [
    "secret_number=8\n",
    "guess_count=0\n",
    "guess_limit=3\n",
    "while guess_count < guess_limit:\n",
    "    guess=int(input(\"guess: \"))\n",
    "    guess_count += 1\n",
    "    if guess == secret_number:\n",
    "        print(\"You Won!\")\n",
    "        break\n",
    "    else:\n",
    "        print(\"Try again\")\n",
    "    print(\"you loss!\")"
   ]
  },
  {
   "cell_type": "code",
   "execution_count": null,
   "id": "96735102",
   "metadata": {},
   "outputs": [],
   "source": [
    "secret_number=8\n",
    "guess_count=0\n",
    "guess_limit=3\n",
    "while guess_count < guess_limit:\n",
    "    guess=int(input(\"guess: \"))\n",
    "    guess_count += 1\n",
    "    if guess == secret_number:\n",
    "        print(\"You Won!\")\n",
    "        break\n",
    "    else:\n",
    "        print(\"Try again\")\n",
    "    print(\"you loss!\")"
   ]
  },
  {
   "cell_type": "code",
   "execution_count": 21,
   "id": "907e2fce",
   "metadata": {},
   "outputs": [
    {
     "name": "stdout",
     "output_type": "stream",
     "text": [
      "> start\n",
      "car is started......\n",
      "> stop\n",
      "car is stopped......\n",
      "> help\n",
      "\n",
      "        start - to start the car\n",
      "        stop - to stop the car\n",
      "        quit - to quit the game\n",
      "        \n",
      "> staRT\n",
      "car is started......\n",
      "> quit\n"
     ]
    }
   ],
   "source": [
    "command=\"\"\n",
    "while True:\n",
    "    command=input(\"> \").lower()\n",
    "    if command==\"start\":\n",
    "        print(\"car is started......\")\n",
    "    elif command==\"stop\":\n",
    "        print(\"car is stopped......\")\n",
    "    elif command==\"quit\":\n",
    "        break\n",
    "    elif command==\"help\":\n",
    "        print('''\n",
    "        start - to start the car\n",
    "        stop - to stop the car\n",
    "        quit - to quit the game\n",
    "        ''')\n",
    "    else:\n",
    "        print(\"you have write wrong comment!\")\n",
    "        "
   ]
  },
  {
   "cell_type": "code",
   "execution_count": 23,
   "id": "df0890c4",
   "metadata": {},
   "outputs": [
    {
     "name": "stdout",
     "output_type": "stream",
     "text": [
      "> tyu\n",
      "you have write wrong comment!\n",
      "> quit\n"
     ]
    }
   ],
   "source": [
    "command=\"\"\n",
    "while True:\n",
    "    command=input(\"> \").lower()\n",
    "    if command==\"start\":\n",
    "        print(\"car is started......\")\n",
    "    elif command==\"stop\":\n",
    "        print(\"car is stopped......\")\n",
    "    elif command==\"quit\":\n",
    "        break\n",
    "    elif command==\"help\":\n",
    "        print('''\n",
    "        start - to start the car\n",
    "        stop - to stop the car\n",
    "        quit - to quit the game\n",
    "        ''')\n",
    "    else:\n",
    "        print(\"you have write wrong comment!\")"
   ]
  },
  {
   "cell_type": "code",
   "execution_count": null,
   "id": "9a75c193",
   "metadata": {},
   "outputs": [
    {
     "name": "stdout",
     "output_type": "stream",
     "text": [
      "> start\n",
      "car is started......\n",
      "> start\n",
      "car is already started\n",
      "> stop\n",
      "car is stoped......\n",
      "> stop\n",
      "car is already stoped\n"
     ]
    }
   ],
   "source": [
    "command=\"\"\n",
    "started= False\n",
    "while True:\n",
    "    command=input(\"> \").lower()\n",
    "    if command==\"start\":\n",
    "        if started:\n",
    "            print(\"car is already started\")\n",
    "        else :\n",
    "            started = True\n",
    "            print(\"car is started......\")\n",
    "    elif command==\"stop\":\n",
    "        if not started:\n",
    "            print(\"car is already stoped\")\n",
    "        else :\n",
    "            started = False\n",
    "            print(\"car is stoped......\")\n",
    "    elif command==\"quit\":\n",
    "        break\n",
    "    elif command==\"help\":\n",
    "        print('''\n",
    "        start - to start the car\n",
    "        stop - to stop the car\n",
    "        quit - to quit the game\n",
    "        ''')\n",
    "    else:\n",
    "        print(\"you have write wrong comment!\")"
   ]
  },
  {
   "cell_type": "code",
   "execution_count": null,
   "id": "a10484f7",
   "metadata": {},
   "outputs": [],
   "source": []
  }
 ],
 "metadata": {
  "kernelspec": {
   "display_name": "Python 3 (ipykernel)",
   "language": "python",
   "name": "python3"
  },
  "language_info": {
   "codemirror_mode": {
    "name": "ipython",
    "version": 3
   },
   "file_extension": ".py",
   "mimetype": "text/x-python",
   "name": "python",
   "nbconvert_exporter": "python",
   "pygments_lexer": "ipython3",
   "version": "3.9.7"
  }
 },
 "nbformat": 4,
 "nbformat_minor": 5
}
